{
 "cells": [
  {
   "cell_type": "code",
   "execution_count": 1,
   "metadata": {},
   "outputs": [
    {
     "name": "stderr",
     "output_type": "stream",
     "text": [
      "C:\\Users\\minx\\AppData\\Local\\Packages\\PythonSoftwareFoundation.Python.3.11_qbz5n2kfra8p0\\LocalCache\\local-packages\\Python311\\site-packages\\sklearn\\base.py:348: InconsistentVersionWarning: Trying to unpickle estimator SVC from version 1.3.0 when using version 1.3.1. This might lead to breaking code or invalid results. Use at your own risk. For more info please refer to:\n",
      "https://scikit-learn.org/stable/model_persistence.html#security-maintainability-limitations\n",
      "  warnings.warn(\n",
      "C:\\Users\\minx\\AppData\\Local\\Packages\\PythonSoftwareFoundation.Python.3.11_qbz5n2kfra8p0\\LocalCache\\local-packages\\Python311\\site-packages\\sklearn\\base.py:348: InconsistentVersionWarning: Trying to unpickle estimator DecisionTreeClassifier from version 1.3.0 when using version 1.3.1. This might lead to breaking code or invalid results. Use at your own risk. For more info please refer to:\n",
      "https://scikit-learn.org/stable/model_persistence.html#security-maintainability-limitations\n",
      "  warnings.warn(\n",
      "C:\\Users\\minx\\AppData\\Local\\Packages\\PythonSoftwareFoundation.Python.3.11_qbz5n2kfra8p0\\LocalCache\\local-packages\\Python311\\site-packages\\sklearn\\base.py:348: InconsistentVersionWarning: Trying to unpickle estimator RandomForestClassifier from version 1.3.0 when using version 1.3.1. This might lead to breaking code or invalid results. Use at your own risk. For more info please refer to:\n",
      "https://scikit-learn.org/stable/model_persistence.html#security-maintainability-limitations\n",
      "  warnings.warn(\n",
      "C:\\Users\\minx\\AppData\\Local\\Packages\\PythonSoftwareFoundation.Python.3.11_qbz5n2kfra8p0\\LocalCache\\local-packages\\Python311\\site-packages\\sklearn\\base.py:348: InconsistentVersionWarning: Trying to unpickle estimator LogisticRegression from version 1.3.0 when using version 1.3.1. This might lead to breaking code or invalid results. Use at your own risk. For more info please refer to:\n",
      "https://scikit-learn.org/stable/model_persistence.html#security-maintainability-limitations\n",
      "  warnings.warn(\n"
     ]
    },
    {
     "name": "stdout",
     "output_type": "stream",
     "text": [
      "SVM\n",
      "Accuracy: 0.784375\n",
      "Precision: 0.6103276198741593\n",
      "Recall: 0.9767361111111111\n",
      "F1: 0.7512351448791561\n",
      "RF\n",
      "Accuracy: 0.7657021604938271\n",
      "Precision: 0.5880496672840777\n",
      "Recall: 0.9921296296296296\n",
      "F1: 0.7384244303742948\n",
      "DT\n",
      "Accuracy: 0.7731867283950618\n",
      "Precision: 0.5957815860681329\n",
      "Recall: 0.9938657407407407\n",
      "F1: 0.744978961523446\n",
      "LR\n",
      "Accuracy: 0.8044753086419754\n",
      "Precision: 0.631400824014126\n",
      "Recall: 0.993287037037037\n",
      "F1: 0.7720403022670026\n"
     ]
    }
   ],
   "source": [
    "## Load models using pickle\n",
    "# import pickle\n",
    "import joblib\n",
    "import pandas as pd\n",
    "from sklearn.metrics import accuracy_score, precision_score, recall_score, f1_score\n",
    "\n",
    "## Get training and testing set\n",
    "dataset = pd.read_csv('./labeled_candidate_set.csv')\n",
    "\n",
    "## Choose some attribute to train the model\n",
    "dataset = dataset[['ltable_invoice_item_id', 'rtable_purchase_order_item_id', 'name_similarity', 'unit_similarity', 'unit_price_similarity', 'quantity_similarity', 'total_price_before_vat_similarity', 'vat_amount_similarity', 'label']]\n",
    "\n",
    "# Load the model\n",
    "SVM = joblib.load('SVM_model.pkl')\n",
    "RF = joblib.load('RF_model.pkl')\n",
    "DT = joblib.load('DT_model.pkl')\n",
    "LR = joblib.load('LR_model.pkl')\n",
    "\n",
    "## Predict\n",
    "print('SVM')\n",
    "SVM_pred = SVM.predict(dataset[['name_similarity', 'unit_similarity', 'unit_price_similarity', 'quantity_similarity', 'total_price_before_vat_similarity', 'vat_amount_similarity']])\n",
    "print('Accuracy:', accuracy_score(dataset['label'], SVM_pred))\n",
    "print('Precision:', precision_score(dataset['label'], SVM_pred))\n",
    "print('Recall:', recall_score(dataset['label'], SVM_pred))\n",
    "print('F1:', f1_score(dataset['label'], SVM_pred))\n",
    "\n",
    "print('RF')\n",
    "RF_pred = RF.predict(dataset[['name_similarity', 'unit_similarity', 'unit_price_similarity', 'quantity_similarity', 'total_price_before_vat_similarity', 'vat_amount_similarity']])\n",
    "print('Accuracy:', accuracy_score(dataset['label'], RF_pred))\n",
    "print('Precision:', precision_score(dataset['label'], RF_pred))\n",
    "print('Recall:', recall_score(dataset['label'], RF_pred))\n",
    "print('F1:', f1_score(dataset['label'], RF_pred))\n",
    "\n",
    "print('DT')\n",
    "DT_pred = DT.predict(dataset[['name_similarity', 'unit_similarity', 'unit_price_similarity', 'quantity_similarity', 'total_price_before_vat_similarity', 'vat_amount_similarity']])\n",
    "print('Accuracy:', accuracy_score(dataset['label'], DT_pred))\n",
    "print('Precision:', precision_score(dataset['label'], DT_pred))\n",
    "print('Recall:', recall_score(dataset['label'], DT_pred))\n",
    "print('F1:', f1_score(dataset['label'], DT_pred))\n",
    "\n",
    "print('LR')\n",
    "LR_pred = LR.predict(dataset[['name_similarity', 'unit_similarity', 'unit_price_similarity', 'quantity_similarity', 'total_price_before_vat_similarity', 'vat_amount_similarity']])\n",
    "print('Accuracy:', accuracy_score(dataset['label'], LR_pred))\n",
    "print('Precision:', precision_score(dataset['label'], LR_pred))\n",
    "print('Recall:', recall_score(dataset['label'], LR_pred))\n",
    "print('F1:', f1_score(dataset['label'], LR_pred))"
   ]
  },
  {
   "cell_type": "code",
   "execution_count": 46,
   "metadata": {},
   "outputs": [
    {
     "name": "stdout",
     "output_type": "stream",
     "text": [
      "SVM\n",
      "[0]\n",
      "[-0.8141269]\n"
     ]
    },
    {
     "name": "stderr",
     "output_type": "stream",
     "text": [
      "c:\\Users\\minx\\anaconda3\\Lib\\site-packages\\sklearn\\base.py:464: UserWarning: X does not have valid feature names, but SVC was fitted with feature names\n",
      "  warnings.warn(\n",
      "c:\\Users\\minx\\anaconda3\\Lib\\site-packages\\sklearn\\base.py:464: UserWarning: X does not have valid feature names, but SVC was fitted with feature names\n",
      "  warnings.warn(\n"
     ]
    }
   ],
   "source": [
    "## 'name_similarity', 'unit_similarity', 'unit_price_similarity', 'quantity_similarity', 'total_price_before_vat_similarity', 'vat_amount_similarity'\n",
    "\n",
    "SVM = joblib.load('SVM_model.pkl')\n",
    "\n",
    "from sklearn import svm\n",
    "\n",
    "## View weights\n",
    "print('SVM')\n",
    "a = [[0.2, 1, 1, 1, 1, 0.5]]\n",
    "print(SVM.decision_function(a))\n",
    "print(SVM.predict(a))"
   ]
  }
 ],
 "metadata": {
  "kernelspec": {
   "display_name": "base",
   "language": "python",
   "name": "python3"
  },
  "language_info": {
   "codemirror_mode": {
    "name": "ipython",
    "version": 3
   },
   "file_extension": ".py",
   "mimetype": "text/x-python",
   "name": "python",
   "nbconvert_exporter": "python",
   "pygments_lexer": "ipython3",
   "version": "3.11.9"
  }
 },
 "nbformat": 4,
 "nbformat_minor": 2
}
